{
 "cells": [
  {
   "cell_type": "code",
   "execution_count": 39,
   "metadata": {},
   "outputs": [],
   "source": [
    "import pandas as pd\n",
    "import numpy as np\n",
    "import matplotlib.pyplot as plt\n",
    "from sklearn.cluster import KMeans\n",
    "from sklearn.preprocessing import StandardScaler\n",
    "from sklearn.metrics import silhouette_score\n",
    "from sklearn.preprocessing import RobustScaler \n",
    "\n",
    "import squarify"
   ]
  },
  {
   "cell_type": "code",
   "execution_count": 40,
   "metadata": {},
   "outputs": [
    {
     "data": {
      "text/html": [
       "<div>\n",
       "<style scoped>\n",
       "    .dataframe tbody tr th:only-of-type {\n",
       "        vertical-align: middle;\n",
       "    }\n",
       "\n",
       "    .dataframe tbody tr th {\n",
       "        vertical-align: top;\n",
       "    }\n",
       "\n",
       "    .dataframe thead th {\n",
       "        text-align: right;\n",
       "    }\n",
       "</style>\n",
       "<table border=\"1\" class=\"dataframe\">\n",
       "  <thead>\n",
       "    <tr style=\"text-align: right;\">\n",
       "      <th></th>\n",
       "      <th>Unnamed: 0</th>\n",
       "      <th>Member_number</th>\n",
       "      <th>Recency</th>\n",
       "      <th>Frequency</th>\n",
       "      <th>Monetary</th>\n",
       "      <th>R</th>\n",
       "      <th>F</th>\n",
       "      <th>M</th>\n",
       "      <th>RFM_Segment</th>\n",
       "      <th>RFM_Score</th>\n",
       "      <th>RFM_Level</th>\n",
       "    </tr>\n",
       "  </thead>\n",
       "  <tbody>\n",
       "    <tr>\n",
       "      <th>0</th>\n",
       "      <td>1388</td>\n",
       "      <td>2433</td>\n",
       "      <td>3</td>\n",
       "      <td>7</td>\n",
       "      <td>375.31</td>\n",
       "      <td>4</td>\n",
       "      <td>4</td>\n",
       "      <td>4</td>\n",
       "      <td>444</td>\n",
       "      <td>12</td>\n",
       "      <td>Best Customers</td>\n",
       "    </tr>\n",
       "    <tr>\n",
       "      <th>1</th>\n",
       "      <td>1159</td>\n",
       "      <td>2193</td>\n",
       "      <td>91</td>\n",
       "      <td>11</td>\n",
       "      <td>361.45</td>\n",
       "      <td>3</td>\n",
       "      <td>4</td>\n",
       "      <td>4</td>\n",
       "      <td>344</td>\n",
       "      <td>11</td>\n",
       "      <td>Big Spenders</td>\n",
       "    </tr>\n",
       "    <tr>\n",
       "      <th>2</th>\n",
       "      <td>772</td>\n",
       "      <td>1793</td>\n",
       "      <td>26</td>\n",
       "      <td>10</td>\n",
       "      <td>345.10</td>\n",
       "      <td>4</td>\n",
       "      <td>4</td>\n",
       "      <td>4</td>\n",
       "      <td>444</td>\n",
       "      <td>12</td>\n",
       "      <td>Best Customers</td>\n",
       "    </tr>\n",
       "  </tbody>\n",
       "</table>\n",
       "</div>"
      ],
      "text/plain": [
       "   Unnamed: 0  Member_number  Recency  Frequency  Monetary  R  F  M  \\\n",
       "0        1388           2433        3          7    375.31  4  4  4   \n",
       "1        1159           2193       91         11    361.45  3  4  4   \n",
       "2         772           1793       26         10    345.10  4  4  4   \n",
       "\n",
       "   RFM_Segment  RFM_Score       RFM_Level  \n",
       "0          444         12  Best Customers  \n",
       "1          344         11    Big Spenders  \n",
       "2          444         12  Best Customers  "
      ]
     },
     "execution_count": 40,
     "metadata": {},
     "output_type": "execute_result"
    }
   ],
   "source": [
    "rfm_df= pd.read_csv('rfm_df.csv')\n",
    "rfm_df.head(3)"
   ]
  },
  {
   "cell_type": "code",
   "execution_count": 41,
   "metadata": {},
   "outputs": [
    {
     "name": "stdout",
     "output_type": "stream",
     "text": [
      "<class 'pandas.core.frame.DataFrame'>\n",
      "RangeIndex: 3898 entries, 0 to 3897\n",
      "Data columns (total 11 columns):\n",
      " #   Column         Non-Null Count  Dtype  \n",
      "---  ------         --------------  -----  \n",
      " 0   Unnamed: 0     3898 non-null   int64  \n",
      " 1   Member_number  3898 non-null   int64  \n",
      " 2   Recency        3898 non-null   int64  \n",
      " 3   Frequency      3898 non-null   int64  \n",
      " 4   Monetary       3898 non-null   float64\n",
      " 5   R              3898 non-null   int64  \n",
      " 6   F              3898 non-null   int64  \n",
      " 7   M              3898 non-null   int64  \n",
      " 8   RFM_Segment    3898 non-null   int64  \n",
      " 9   RFM_Score      3898 non-null   int64  \n",
      " 10  RFM_Level      3898 non-null   object \n",
      "dtypes: float64(1), int64(9), object(1)\n",
      "memory usage: 335.1+ KB\n"
     ]
    }
   ],
   "source": [
    "rfm_df.info()"
   ]
  },
  {
   "cell_type": "markdown",
   "metadata": {},
   "source": [
    "## RFM + KMeans"
   ]
  },
  {
   "cell_type": "code",
   "execution_count": 42,
   "metadata": {},
   "outputs": [
    {
     "data": {
      "text/html": [
       "<div>\n",
       "<style scoped>\n",
       "    .dataframe tbody tr th:only-of-type {\n",
       "        vertical-align: middle;\n",
       "    }\n",
       "\n",
       "    .dataframe tbody tr th {\n",
       "        vertical-align: top;\n",
       "    }\n",
       "\n",
       "    .dataframe thead th {\n",
       "        text-align: right;\n",
       "    }\n",
       "</style>\n",
       "<table border=\"1\" class=\"dataframe\">\n",
       "  <thead>\n",
       "    <tr style=\"text-align: right;\">\n",
       "      <th></th>\n",
       "      <th>Recency</th>\n",
       "      <th>Frequency</th>\n",
       "      <th>Monetary</th>\n",
       "    </tr>\n",
       "  </thead>\n",
       "  <tbody>\n",
       "    <tr>\n",
       "      <th>0</th>\n",
       "      <td>3</td>\n",
       "      <td>7</td>\n",
       "      <td>375.31</td>\n",
       "    </tr>\n",
       "    <tr>\n",
       "      <th>1</th>\n",
       "      <td>91</td>\n",
       "      <td>11</td>\n",
       "      <td>361.45</td>\n",
       "    </tr>\n",
       "    <tr>\n",
       "      <th>2</th>\n",
       "      <td>26</td>\n",
       "      <td>10</td>\n",
       "      <td>345.10</td>\n",
       "    </tr>\n",
       "    <tr>\n",
       "      <th>3</th>\n",
       "      <td>4</td>\n",
       "      <td>10</td>\n",
       "      <td>334.15</td>\n",
       "    </tr>\n",
       "    <tr>\n",
       "      <th>4</th>\n",
       "      <td>142</td>\n",
       "      <td>7</td>\n",
       "      <td>312.46</td>\n",
       "    </tr>\n",
       "  </tbody>\n",
       "</table>\n",
       "</div>"
      ],
      "text/plain": [
       "   Recency  Frequency  Monetary\n",
       "0        3          7    375.31\n",
       "1       91         11    361.45\n",
       "2       26         10    345.10\n",
       "3        4         10    334.15\n",
       "4      142          7    312.46"
      ]
     },
     "execution_count": 42,
     "metadata": {},
     "output_type": "execute_result"
    }
   ],
   "source": [
    "df_now = rfm_df[['Recency','Frequency','Monetary']]\n",
    "df_now.head()"
   ]
  },
  {
   "cell_type": "code",
   "execution_count": 43,
   "metadata": {},
   "outputs": [],
   "source": [
    "rfm_df['Log_Recency'] = np.log1p(rfm_df['Recency'])\n",
    "rfm_df['Log_Frequency'] = np.log1p(rfm_df['Frequency'])\n",
    "rfm_df['Log_Monetary'] = np.log1p(rfm_df['Monetary'])\n",
    "\n",
    "scaler = RobustScaler()\n",
    "rfm_df[['Scaled_Log_Recency', 'Scaled_Log_Frequency', 'Scaled_Log_Monetary']] = scaler.fit_transform(\n",
    "    rfm_df[['Log_Recency', 'Log_Frequency', 'Log_Monetary']])"
   ]
  },
  {
   "cell_type": "code",
   "execution_count": 44,
   "metadata": {},
   "outputs": [
    {
     "name": "stdout",
     "output_type": "stream",
     "text": [
      "   Unnamed: 0  Member_number  Recency  Frequency  Monetary  R  F  M  \\\n",
      "0        1388           2433        3          7    375.31  4  4  4   \n",
      "1        1159           2193       91         11    361.45  3  4  4   \n",
      "2         772           1793       26         10    345.10  4  4  4   \n",
      "3        2225           3289        4         10    334.15  4  4  4   \n",
      "4        1692           2743      142          7    312.46  2  4  4   \n",
      "\n",
      "   RFM_Segment  RFM_Score       RFM_Level  Log_Recency  Log_Frequency  \\\n",
      "0          444         12  Best Customers     1.386294       2.079442   \n",
      "1          344         11    Big Spenders     4.521789       2.484907   \n",
      "2          444         12  Best Customers     3.295837       2.397895   \n",
      "3          444         12  Best Customers     1.609438       2.397895   \n",
      "4          244         10    Big Spenders     4.962845       2.079442   \n",
      "\n",
      "   Log_Monetary  Scaled_Log_Recency  Scaled_Log_Frequency  Scaled_Log_Monetary  \n",
      "0      5.930413           -2.262188              0.678072             1.678723  \n",
      "1      5.892887           -0.275071              1.263034             1.639375  \n",
      "2      5.846728           -1.052017              1.137504             1.590975  \n",
      "3      5.814578           -2.120771              1.137504             1.557265  \n",
      "4      5.747672            0.004447              0.678072             1.487110  \n"
     ]
    }
   ],
   "source": [
    "print(rfm_df.head())"
   ]
  },
  {
   "cell_type": "code",
   "execution_count": 45,
   "metadata": {},
   "outputs": [],
   "source": [
    "# Elbow Method để chọn k\n",
    "X = rfm_df[['Scaled_Log_Recency', 'Scaled_Log_Frequency', 'Scaled_Log_Monetary']]\n",
    "\n",
    "# Danh sách chứa SSE cho mỗi giá trị k\n",
    "sse = {}\n",
    "\n",
    "# Chạy KMeans cho các giá trị k từ 1 đến 10\n",
    "for k in range(1, 11):\n",
    "    kmeans = KMeans(n_clusters=k, random_state=42)\n",
    "    kmeans.fit(X)\n",
    "    sse[k] = kmeans.inertia_  "
   ]
  },
  {
   "cell_type": "code",
   "execution_count": 46,
   "metadata": {},
   "outputs": [
    {
     "data": {
      "image/png": "[encoded data removed]",
      "text/plain": [
       "<Figure size 1000x600 with 1 Axes>"
      ]
     },
     "metadata": {},
     "output_type": "display_data"
    }
   ],
   "source": [
    "plt.figure(figsize=(10, 6))\n",
    "plt.plot(list(sse.keys()), list(sse.values()), marker='o')\n",
    "plt.xlabel('Số cụm (k)')\n",
    "plt.ylabel('SSE (Sum of Squared Errors)')\n",
    "plt.title('Elbow Method để chọn k')\n",
    "plt.show()"
   ]
  },
  {
   "cell_type": "code",
   "execution_count": 47,
   "metadata": {},
   "outputs": [
    {
     "name": "stdout",
     "output_type": "stream",
     "text": [
      "   Unnamed: 0  Member_number  Recency  Frequency  Monetary  R  F  M  \\\n",
      "0        1388           2433        3          7    375.31  4  4  4   \n",
      "1        1159           2193       91         11    361.45  3  4  4   \n",
      "2         772           1793       26         10    345.10  4  4  4   \n",
      "3        2225           3289        4         10    334.15  4  4  4   \n",
      "4        1692           2743      142          7    312.46  2  4  4   \n",
      "\n",
      "   RFM_Segment  RFM_Score       RFM_Level  Log_Recency  Log_Frequency  \\\n",
      "0          444         12  Best Customers     1.386294       2.079442   \n",
      "1          344         11    Big Spenders     4.521789       2.484907   \n",
      "2          444         12  Best Customers     3.295837       2.397895   \n",
      "3          444         12  Best Customers     1.609438       2.397895   \n",
      "4          244         10    Big Spenders     4.962845       2.079442   \n",
      "\n",
      "   Log_Monetary  Scaled_Log_Recency  Scaled_Log_Frequency  \\\n",
      "0      5.930413           -2.262188              0.678072   \n",
      "1      5.892887           -0.275071              1.263034   \n",
      "2      5.846728           -1.052017              1.137504   \n",
      "3      5.814578           -2.120771              1.137504   \n",
      "4      5.747672            0.004447              0.678072   \n",
      "\n",
      "   Scaled_Log_Monetary  Cluster  \n",
      "0             1.678723        0  \n",
      "1             1.639375        2  \n",
      "2             1.590975        2  \n",
      "3             1.557265        0  \n",
      "4             1.487110        2  \n"
     ]
    }
   ],
   "source": [
    "from sklearn.cluster import KMeans\n",
    "\n",
    "# Lấy các cột đã chuẩn hóa từ rfm_df\n",
    "df_now_scaled = rfm_df[['Scaled_Log_Recency', 'Scaled_Log_Frequency', 'Scaled_Log_Monetary']]\n",
    "\n",
    "# Thực hiện phân cụm với k = 4\n",
    "kmeans = KMeans(n_clusters=4, random_state=42)\n",
    "kmeans.fit(df_now_scaled)\n",
    "\n",
    "# Gán nhãn phân cụm vào cột 'Cluster' trong rfm_df\n",
    "rfm_df['Cluster'] = kmeans.labels_\n",
    "\n",
    "# Xem kết quả\n",
    "print(rfm_df.head())\n"
   ]
  },
  {
   "cell_type": "code",
   "execution_count": 48,
   "metadata": {},
   "outputs": [],
   "source": [
    "# Tính trung bình và đếm số lượng cho từng cụm\n",
    "rfm_agg2 = rfm_df.groupby('Cluster').agg({\n",
    "    'Recency': 'mean',\n",
    "    'Frequency': 'mean',\n",
    "    'Monetary': ['mean', 'count']\n",
    "}).round(0)"
   ]
  },
  {
   "cell_type": "code",
   "execution_count": 49,
   "metadata": {},
   "outputs": [],
   "source": [
    "# Đổi tên cột\n",
    "rfm_agg2.columns = rfm_agg2.columns.droplevel()\n",
    "rfm_agg2.columns = ['RecencyMean', 'FrequencyMean', 'MonetaryMean', 'Count']"
   ]
  },
  {
   "cell_type": "code",
   "execution_count": 50,
   "metadata": {},
   "outputs": [
    {
     "name": "stdout",
     "output_type": "stream",
     "text": [
      "     Cluster  RecencyMean  FrequencyMean  MonetaryMean  Count  Percent\n",
      "0  Cluster 0         20.0            4.0          95.0    644    16.52\n",
      "1  Cluster 1        248.0            3.0          61.0   1455    37.33\n",
      "2  Cluster 2        131.0            6.0         139.0   1230    31.55\n",
      "3  Cluster 3        344.0            2.0          19.0    569    14.60\n"
     ]
    }
   ],
   "source": [
    "# Tính phần trăm\n",
    "rfm_agg2['Percent'] = round((rfm_agg2['Count'] / rfm_agg2.Count.sum()) * 100, 2)\n",
    "rfm_agg2 = rfm_agg2.reset_index()\n",
    "\n",
    "# Đổi kiểu dữ liệu cột Cluster\n",
    "rfm_agg2['Cluster'] = 'Cluster ' + rfm_agg2['Cluster'].astype('str')\n",
    "print(rfm_agg2)"
   ]
  },
  {
   "cell_type": "code",
   "execution_count": 51,
   "metadata": {},
   "outputs": [
    {
     "data": {
      "application/vnd.plotly.v1+json": {
       "config": {
        "plotlyServerURL": "https://plot.ly"
       },
       "data": [
        {
         "hovertemplate": "<b>%{hovertext}</b><br><br>Cluster=Cluster 0<br>RecencyMean=%{x}<br>MonetaryMean=%{y}<br>FrequencyMean=%{marker.size}<extra></extra>",
         "hovertext": [
          "Cluster 0"
         ],
         "legendgroup": "Cluster 0",
         "marker": {
          "color": "#636efa",
          "size": [
           4
          ],
          "sizemode": "area",
          "sizeref": 0.0006,
          "symbol": "circle"
         },
         "mode": "markers",
         "name": "Cluster 0",
         "orientation": "v",
         "showlegend": true,
         "type": "scatter",
         "x": [
          20
         ],
         "xaxis": "x",
         "y": [
          95
         ],
         "yaxis": "y"
        },
        {
         "hovertemplate": "<b>%{hovertext}</b><br><br>Cluster=Cluster 1<br>RecencyMean=%{x}<br>MonetaryMean=%{y}<br>FrequencyMean=%{marker.size}<extra></extra>",
         "hovertext": [
          "Cluster 1"
         ],
         "legendgroup": "Cluster 1",
         "marker": {
          "color": "#EF553B",
          "size": [
           3
          ],
          "sizemode": "area",
          "sizeref": 0.0006,
          "symbol": "circle"
         },
         "mode": "markers",
         "name": "Cluster 1",
         "orientation": "v",
         "showlegend": true,
         "type": "scatter",
         "x": [
          248
         ],
         "xaxis": "x",
         "y": [
          61
         ],
         "yaxis": "y"
        },
        {
         "hovertemplate": "<b>%{hovertext}</b><br><br>Cluster=Cluster 2<br>RecencyMean=%{x}<br>MonetaryMean=%{y}<br>FrequencyMean=%{marker.size}<extra></extra>",
         "hovertext": [
          "Cluster 2"
         ],
         "legendgroup": "Cluster 2",
         "marker": {
          "color": "#00cc96",
          "size": [
           6
          ],
          "sizemode": "area",
          "sizeref": 0.0006,
          "symbol": "circle"
         },
         "mode": "markers",
         "name": "Cluster 2",
         "orientation": "v",
         "showlegend": true,
         "type": "scatter",
         "x": [
          131
         ],
         "xaxis": "x",
         "y": [
          139
         ],
         "yaxis": "y"
        },
        {
         "hovertemplate": "<b>%{hovertext}</b><br><br>Cluster=Cluster 3<br>RecencyMean=%{x}<br>MonetaryMean=%{y}<br>FrequencyMean=%{marker.size}<extra></extra>",
         "hovertext": [
          "Cluster 3"
         ],
         "legendgroup": "Cluster 3",
         "marker": {
          "color": "#ab63fa",
          "size": [
           2
          ],
          "sizemode": "area",
          "sizeref": 0.0006,
          "symbol": "circle"
         },
         "mode": "markers",
         "name": "Cluster 3",
         "orientation": "v",
         "showlegend": true,
         "type": "scatter",
         "x": [
          344
         ],
         "xaxis": "x",
         "y": [
          19
         ],
         "yaxis": "y"
        }
       ],
       "layout": {
        "legend": {
         "itemsizing": "constant",
         "title": {
          "text": "Cluster"
         },
         "tracegroupgap": 0
        },
        "margin": {
         "t": 60
        },
        "template": {
         "data": {
          "bar": [
           {
            "error_x": {
             "color": "#2a3f5f"
            },
            "error_y": {
             "color": "#2a3f5f"
            },
            "marker": {
             "line": {
              "color": "#E5ECF6",
              "width": 0.5
             },
             "pattern": {
              "fillmode": "overlay",
              "size": 10,
              "solidity": 0.2
             }
            },
            "type": "bar"
           }
          ],
          "barpolar": [
           {
            "marker": {
             "line": {
              "color": "#E5ECF6",
              "width": 0.5
             },
             "pattern": {
              "fillmode": "overlay",
              "size": 10,
              "solidity": 0.2
             }
            },
            "type": "barpolar"
           }
          ],
          "carpet": [
           {
            "aaxis": {
             "endlinecolor": "#2a3f5f",
             "gridcolor": "white",
             "linecolor": "white",
             "minorgridcolor": "white",
             "startlinecolor": "#2a3f5f"
            },
            "baxis": {
             "endlinecolor": "#2a3f5f",
             "gridcolor": "white",
             "linecolor": "white",
             "minorgridcolor": "white",
             "startlinecolor": "#2a3f5f"
            },
            "type": "carpet"
           }
          ],
          "choropleth": [
           {
            "colorbar": {
             "outlinewidth": 0,
             "ticks": ""
            },
            "type": "choropleth"
           }
          ],
          "contour": [
           {
            "colorbar": {
             "outlinewidth": 0,
             "ticks": ""
            },
            "colorscale": [
             [
              0,
              "#0d0887"
             ],
             [
              0.1111111111111111,
              "#46039f"
             ],
             [
              0.2222222222222222,
              "#7201a8"
             ],
             [
              0.3333333333333333,
              "#9c179e"
             ],
             [
              0.4444444444444444,
              "#bd3786"
             ],
             [
              0.5555555555555556,
              "#d8576b"
             ],
             [
              0.6666666666666666,
              "#ed7953"
             ],
             [
              0.7777777777777778,
              "#fb9f3a"
             ],
             [
              0.8888888888888888,
              "#fdca26"
             ],
             [
              1,
              "#f0f921"
             ]
            ],
            "type": "contour"
           }
          ],
          "contourcarpet": [
           {
            "colorbar": {
             "outlinewidth": 0,
             "ticks": ""
            },
            "type": "contourcarpet"
           }
          ],
          "heatmap": [
           {
            "colorbar": {
             "outlinewidth": 0,
             "ticks": ""
            },
            "colorscale": [
             [
              0,
              "#0d0887"
             ],
             [
              0.1111111111111111,
              "#46039f"
             ],
             [
              0.2222222222222222,
              "#7201a8"
             ],
             [
              0.3333333333333333,
              "#9c179e"
             ],
             [
              0.4444444444444444,
              "#bd3786"
             ],
             [
              0.5555555555555556,
              "#d8576b"
             ],
             [
              0.6666666666666666,
              "#ed7953"
             ],
             [
              0.7777777777777778,
              "#fb9f3a"
             ],
             [
              0.8888888888888888,
              "#fdca26"
             ],
             [
              1,
              "#f0f921"
             ]
            ],
            "type": "heatmap"
           }
          ],
          "heatmapgl": [
           {
            "colorbar": {
             "outlinewidth": 0,
             "ticks": ""
            },
            "colorscale": [
             [
              0,
              "#0d0887"
             ],
             [
              0.1111111111111111,
              "#46039f"
             ],
             [
              0.2222222222222222,
              "#7201a8"
             ],
             [
              0.3333333333333333,
              "#9c179e"
             ],
             [
              0.4444444444444444,
              "#bd3786"
             ],
             [
              0.5555555555555556,
              "#d8576b"
             ],
             [
              0.6666666666666666,
              "#ed7953"
             ],
             [
              0.7777777777777778,
              "#fb9f3a"
             ],
             [
              0.8888888888888888,
              "#fdca26"
             ],
             [
              1,
              "#f0f921"
             ]
            ],
            "type": "heatmapgl"
           }
          ],
          "histogram": [
           {
            "marker": {
             "pattern": {
              "fillmode": "overlay",
              "size": 10,
              "solidity": 0.2
             }
            },
            "type": "histogram"
           }
          ],
          "histogram2d": [
           {
            "colorbar": {
             "outlinewidth": 0,
             "ticks": ""
            },
            "colorscale": [
             [
              0,
              "#0d0887"
             ],
             [
              0.1111111111111111,
              "#46039f"
             ],
             [
              0.2222222222222222,
              "#7201a8"
             ],
             [
              0.3333333333333333,
              "#9c179e"
             ],
             [
              0.4444444444444444,
              "#bd3786"
             ],
             [
              0.5555555555555556,
              "#d8576b"
             ],
             [
              0.6666666666666666,
              "#ed7953"
             ],
             [
              0.7777777777777778,
              "#fb9f3a"
             ],
             [
              0.8888888888888888,
              "#fdca26"
             ],
             [
              1,
              "#f0f921"
             ]
            ],
            "type": "histogram2d"
           }
          ],
          "histogram2dcontour": [
           {
            "colorbar": {
             "outlinewidth": 0,
             "ticks": ""
            },
            "colorscale": [
             [
              0,
              "#0d0887"
             ],
             [
              0.1111111111111111,
              "#46039f"
             ],
             [
              0.2222222222222222,
              "#7201a8"
             ],
             [
              0.3333333333333333,
              "#9c179e"
             ],
             [
              0.4444444444444444,
              "#bd3786"
             ],
             [
              0.5555555555555556,
              "#d8576b"
             ],
             [
              0.6666666666666666,
              "#ed7953"
             ],
             [
              0.7777777777777778,
              "#fb9f3a"
             ],
             [
              0.8888888888888888,
              "#fdca26"
             ],
             [
              1,
              "#f0f921"
             ]
            ],
            "type": "histogram2dcontour"
           }
          ],
          "mesh3d": [
           {
            "colorbar": {
             "outlinewidth": 0,
             "ticks": ""
            },
            "type": "mesh3d"
           }
          ],
          "parcoords": [
           {
            "line": {
             "colorbar": {
              "outlinewidth": 0,
              "ticks": ""
             }
            },
            "type": "parcoords"
           }
          ],
          "pie": [
           {
            "automargin": true,
            "type": "pie"
           }
          ],
          "scatter": [
           {
            "fillpattern": {
             "fillmode": "overlay",
             "size": 10,
             "solidity": 0.2
            },
            "type": "scatter"
           }
          ],
          "scatter3d": [
           {
            "line": {
             "colorbar": {
              "outlinewidth": 0,
              "ticks": ""
             }
            },
            "marker": {
             "colorbar": {
              "outlinewidth": 0,
              "ticks": ""
             }
            },
            "type": "scatter3d"
           }
          ],
          "scattercarpet": [
           {
            "marker": {
             "colorbar": {
              "outlinewidth": 0,
              "ticks": ""
             }
            },
            "type": "scattercarpet"
           }
          ],
          "scattergeo": [
           {
            "marker": {
             "colorbar": {
              "outlinewidth": 0,
              "ticks": ""
             }
            },
            "type": "scattergeo"
           }
          ],
          "scattergl": [
           {
            "marker": {
             "colorbar": {
              "outlinewidth": 0,
              "ticks": ""
             }
            },
            "type": "scattergl"
           }
          ],
          "scattermapbox": [
           {
            "marker": {
             "colorbar": {
              "outlinewidth": 0,
              "ticks": ""
             }
            },
            "type": "scattermapbox"
           }
          ],
          "scatterpolar": [
           {
            "marker": {
             "colorbar": {
              "outlinewidth": 0,
              "ticks": ""
             }
            },
            "type": "scatterpolar"
           }
          ],
          "scatterpolargl": [
           {
            "marker": {
             "colorbar": {
              "outlinewidth": 0,
              "ticks": ""
             }
            },
            "type": "scatterpolargl"
           }
          ],
          "scatterternary": [
           {
            "marker": {
             "colorbar": {
              "outlinewidth": 0,
              "ticks": ""
             }
            },
            "type": "scatterternary"
           }
          ],
          "surface": [
           {
            "colorbar": {
             "outlinewidth": 0,
             "ticks": ""
            },
            "colorscale": [
             [
              0,
              "#0d0887"
             ],
             [
              0.1111111111111111,
              "#46039f"
             ],
             [
              0.2222222222222222,
              "#7201a8"
             ],
             [
              0.3333333333333333,
              "#9c179e"
             ],
             [
              0.4444444444444444,
              "#bd3786"
             ],
             [
              0.5555555555555556,
              "#d8576b"
             ],
             [
              0.6666666666666666,
              "#ed7953"
             ],
             [
              0.7777777777777778,
              "#fb9f3a"
             ],
             [
              0.8888888888888888,
              "#fdca26"
             ],
             [
              1,
              "#f0f921"
             ]
            ],
            "type": "surface"
           }
          ],
          "table": [
           {
            "cells": {
             "fill": {
              "color": "#EBF0F8"
             },
             "line": {
              "color": "white"
             }
            },
            "header": {
             "fill": {
              "color": "#C8D4E3"
             },
             "line": {
              "color": "white"
             }
            },
            "type": "table"
           }
          ]
         },
         "layout": {
          "annotationdefaults": {
           "arrowcolor": "#2a3f5f",
           "arrowhead": 0,
           "arrowwidth": 1
          },
          "autotypenumbers": "strict",
          "coloraxis": {
           "colorbar": {
            "outlinewidth": 0,
            "ticks": ""
           }
          },
          "colorscale": {
           "diverging": [
            [
             0,
             "#8e0152"
            ],
            [
             0.1,
             "#c51b7d"
            ],
            [
             0.2,
             "#de77ae"
            ],
            [
             0.3,
             "#f1b6da"
            ],
            [
             0.4,
             "#fde0ef"
            ],
            [
             0.5,
             "#f7f7f7"
            ],
            [
             0.6,
             "#e6f5d0"
            ],
            [
             0.7,
             "#b8e186"
            ],
            [
             0.8,
             "#7fbc41"
            ],
            [
             0.9,
             "#4d9221"
            ],
            [
             1,
             "#276419"
            ]
           ],
           "sequential": [
            [
             0,
             "#0d0887"
            ],
            [
             0.1111111111111111,
             "#46039f"
            ],
            [
             0.2222222222222222,
             "#7201a8"
            ],
            [
             0.3333333333333333,
             "#9c179e"
            ],
            [
             0.4444444444444444,
             "#bd3786"
            ],
            [
             0.5555555555555556,
             "#d8576b"
            ],
            [
             0.6666666666666666,
             "#ed7953"
            ],
            [
             0.7777777777777778,
             "#fb9f3a"
            ],
            [
             0.8888888888888888,
             "#fdca26"
            ],
            [
             1,
             "#f0f921"
            ]
           ],
           "sequentialminus": [
            [
             0,
             "#0d0887"
            ],
            [
             0.1111111111111111,
             "#46039f"
            ],
            [
             0.2222222222222222,
             "#7201a8"
            ],
            [
             0.3333333333333333,
             "#9c179e"
            ],
            [
             0.4444444444444444,
             "#bd3786"
            ],
            [
             0.5555555555555556,
             "#d8576b"
            ],
            [
             0.6666666666666666,
             "#ed7953"
            ],
            [
             0.7777777777777778,
             "#fb9f3a"
            ],
            [
             0.8888888888888888,
             "#fdca26"
            ],
            [
             1,
             "#f0f921"
            ]
           ]
          },
          "colorway": [
           "#636efa",
           "#EF553B",
           "#00cc96",
           "#ab63fa",
           "#FFA15A",
           "#19d3f3",
           "#FF6692",
           "#B6E880",
           "#FF97FF",
           "#FECB52"
          ],
          "font": {
           "color": "#2a3f5f"
          },
          "geo": {
           "bgcolor": "white",
           "lakecolor": "white",
           "landcolor": "#E5ECF6",
           "showlakes": true,
           "showland": true,
           "subunitcolor": "white"
          },
          "hoverlabel": {
           "align": "left"
          },
          "hovermode": "closest",
          "mapbox": {
           "style": "light"
          },
          "paper_bgcolor": "white",
          "plot_bgcolor": "#E5ECF6",
          "polar": {
           "angularaxis": {
            "gridcolor": "white",
            "linecolor": "white",
            "ticks": ""
           },
           "bgcolor": "#E5ECF6",
           "radialaxis": {
            "gridcolor": "white",
            "linecolor": "white",
            "ticks": ""
           }
          },
          "scene": {
           "xaxis": {
            "backgroundcolor": "#E5ECF6",
            "gridcolor": "white",
            "gridwidth": 2,
            "linecolor": "white",
            "showbackground": true,
            "ticks": "",
            "zerolinecolor": "white"
           },
           "yaxis": {
            "backgroundcolor": "#E5ECF6",
            "gridcolor": "white",
            "gridwidth": 2,
            "linecolor": "white",
            "showbackground": true,
            "ticks": "",
            "zerolinecolor": "white"
           },
           "zaxis": {
            "backgroundcolor": "#E5ECF6",
            "gridcolor": "white",
            "gridwidth": 2,
            "linecolor": "white",
            "showbackground": true,
            "ticks": "",
            "zerolinecolor": "white"
           }
          },
          "shapedefaults": {
           "line": {
            "color": "#2a3f5f"
           }
          },
          "ternary": {
           "aaxis": {
            "gridcolor": "white",
            "linecolor": "white",
            "ticks": ""
           },
           "baxis": {
            "gridcolor": "white",
            "linecolor": "white",
            "ticks": ""
           },
           "bgcolor": "#E5ECF6",
           "caxis": {
            "gridcolor": "white",
            "linecolor": "white",
            "ticks": ""
           }
          },
          "title": {
           "x": 0.05
          },
          "xaxis": {
           "automargin": true,
           "gridcolor": "white",
           "linecolor": "white",
           "ticks": "",
           "title": {
            "standoff": 15
           },
           "zerolinecolor": "white",
           "zerolinewidth": 2
          },
          "yaxis": {
           "automargin": true,
           "gridcolor": "white",
           "linecolor": "white",
           "ticks": "",
           "title": {
            "standoff": 15
           },
           "zerolinecolor": "white",
           "zerolinewidth": 2
          }
         }
        },
        "xaxis": {
         "anchor": "y",
         "domain": [
          0,
          1
         ],
         "title": {
          "text": "RecencyMean"
         }
        },
        "yaxis": {
         "anchor": "x",
         "domain": [
          0,
          1
         ],
         "title": {
          "text": "MonetaryMean"
         }
        }
       }
      }
     },
     "metadata": {},
     "output_type": "display_data"
    }
   ],
   "source": [
    "import plotly.express as px\n",
    "\n",
    "fig = px.scatter(rfm_agg2, x=\"RecencyMean\", y=\"MonetaryMean\", size=\"FrequencyMean\", color=\"Cluster\",\n",
    "                 hover_name=\"Cluster\", size_max=100)\n",
    "fig.show()"
   ]
  },
  {
   "cell_type": "code",
   "execution_count": 52,
   "metadata": {},
   "outputs": [
    {
     "data": {
      "image/png": "[encoded data removed]",
      "text/plain": [
       "<Figure size 1400x1000 with 1 Axes>"
      ]
     },
     "metadata": {},
     "output_type": "display_data"
    }
   ],
   "source": [
    "fig = plt.gcf()\n",
    "ax = fig.add_subplot()\n",
    "fig.set_size_inches(14, 10)\n",
    "colors_dict2 = {'Cluster0':'yellow','Cluster1':'royalblue', 'Cluster2':'cyan',\n",
    "               'Cluster3':'red', 'Cluster4':'purple', 'Cluster5':'green', 'Cluster6':'gold'}\n",
    "squarify.plot(sizes=rfm_agg2['Count'],\n",
    "              text_kwargs={'fontsize':12,'weight':'bold', 'fontname':\"sans serif\"},\n",
    "              color=colors_dict2.values(),\n",
    "              label=['{} \\n{:.0f} days \\n{:.0f} orders \\n{:.0f} $ \\n{:.0f} customers ({}%)'.format(*rfm_agg2.iloc[i])\n",
    "                      for i in range(0, len(rfm_agg2))], alpha=0.5 )\n",
    "plt.title(\"Customers Segments\",fontsize=26,fontweight=\"bold\")\n",
    "plt.axis('off')\n",
    "plt.show()"
   ]
  },
  {
   "cell_type": "markdown",
   "metadata": {},
   "source": [
    "Cluster 0 (Màu vàng): Đây là nhóm khách hàng có chi tiêu cao nhất, nhưng số ngày không giao dịch (Recency) thấp. Họ có xu hướng mua hàng đều đặn.\n",
    "Cluster 1 (Màu xanh lam): Nhóm khách hàng này có khoảng thời gian không giao dịch dài hơn và chi tiêu ở mức trung bình. Họ có thể là những khách hàng \"mới\" hoặc \"khách hàng cũ\" đang quay lại sau một thời gian dài.\n",
    "Cluster 2 (Màu xanh lục): Đây là nhóm khách hàng có số ngày không giao dịch ít hơn và chi tiêu cao. Có thể họ là những khách hàng tiềm năng có thể tiếp tục mua sắm.\n",
    "Cluster 3 (Màu đỏ): Nhóm khách hàng này có chi tiêu thấp và số ngày không giao dịch dài. Họ có thể là những khách hàng ít quan tâm hoặc ít mua hàng, cần chú ý cải thiện chiến lược giữ chân khách hàng."
   ]
  },
  {
   "cell_type": "markdown",
   "metadata": {},
   "source": [
    "\n",
    "\n",
    "\n",
    "\n"
   ]
  },
  {
   "cell_type": "markdown",
   "metadata": {},
   "source": []
  }
 ],
 "metadata": {
  "kernelspec": {
   "display_name": "Python 3",
   "language": "python",
   "name": "python3"
  },
  "language_info": {
   "codemirror_mode": {
    "name": "ipython",
    "version": 3
   },
   "file_extension": ".py",
   "mimetype": "text/x-python",
   "name": "python",
   "nbconvert_exporter": "python",
   "pygments_lexer": "ipython3",
   "version": "3.11.9"
  }
 },
 "nbformat": 4,
 "nbformat_minor": 2
}
